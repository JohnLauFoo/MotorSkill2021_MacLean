{
  "nbformat": 4,
  "nbformat_minor": 0,
  "metadata": {
    "colab": {
      "name": "Jhan_test3.ipynb",
      "provenance": [],
      "collapsed_sections": [],
      "authorship_tag": "ABX9TyM8/uT8qaDMsMx4fwTW9SKH",
      "include_colab_link": true
    },
    "kernelspec": {
      "name": "python3",
      "display_name": "Python 3"
    },
    "language_info": {
      "name": "python"
    }
  },
  "cells": [
    {
      "cell_type": "markdown",
      "metadata": {
        "id": "view-in-github",
        "colab_type": "text"
      },
      "source": [
        "<a href=\"https://colab.research.google.com/github/JohnLauFoo/MotorSkillAcquisition_MacLean/blob/master/Jhan_test3.ipynb\" target=\"_parent\"><img src=\"https://colab.research.google.com/assets/colab-badge.svg\" alt=\"Open In Colab\"/></a>"
      ]
    },
    {
      "cell_type": "markdown",
      "metadata": {
        "id": "kR-l5LVqo69O"
      },
      "source": [
        "### Get full jpg address list to put into deeplabcut"
      ]
    },
    {
      "cell_type": "code",
      "metadata": {
        "colab": {
          "base_uri": "https://localhost:8080/"
        },
        "id": "5gh12tdTnDy8",
        "outputId": "720ed895-e74a-42ff-adfa-f2adddea6631"
      },
      "source": [
        "import os\n",
        "\n",
        "folder_dir = \"C:/Users/John LauFoo/Box/(MacLean) Motor Skill Acquisition/DATA/mouse81\"\n",
        "file_list = []\n",
        "\n",
        "\n",
        "for files in os.walk(folder_dir, topdown=False):\n",
        "    global file_list\n",
        "    file_list = files[2]\n",
        "\n",
        "#new_folder_dir = r\"C:\\Users\\John LauFoo\\Box\\(MacLean) Motor Skill Acquisition\\DATA\\mouse81\\2021\"\n",
        "\n",
        "full_path_list = list(range(0,len(file_list)))\n",
        "\n",
        "for i in range(0,len(file_list)):\n",
        "    path = file_list[i]\n",
        "    full_path = folder_dir+'/'+path\n",
        "    #full_path = new_folder_dir+path[4:len(path)]\n",
        "    #print(full_path)\n",
        "    #full_path_list.append(full_path)\n",
        "    full_path_list[i]=full_path\n",
        "    \n",
        "print(full_path_list)"
      ],
      "execution_count": 14,
      "outputs": [
        {
          "output_type": "stream",
          "name": "stdout",
          "text": [
            "[]\n"
          ]
        }
      ]
    },
    {
      "cell_type": "markdown",
      "metadata": {
        "id": "GTKealzspYnG"
      },
      "source": [
        "### Initialization"
      ]
    },
    {
      "cell_type": "code",
      "metadata": {
        "colab": {
          "base_uri": "https://localhost:8080/"
        },
        "id": "DLDqIrdD7Rqc",
        "outputId": "dcc3660c-4eca-47d9-9b2e-067b40cc4b91"
      },
      "source": [
        "!pip install opencv-python\n",
        "\n",
        "import cv2 as cv"
      ],
      "execution_count": 21,
      "outputs": [
        {
          "output_type": "stream",
          "name": "stdout",
          "text": [
            "Requirement already satisfied: opencv-python in /usr/local/lib/python3.7/dist-packages (4.1.2.30)\n",
            "Requirement already satisfied: numpy>=1.14.5 in /usr/local/lib/python3.7/dist-packages (from opencv-python) (1.16.4)\n"
          ]
        }
      ]
    },
    {
      "cell_type": "code",
      "metadata": {
        "colab": {
          "base_uri": "https://localhost:8080/",
          "height": 182
        },
        "id": "kqoSiucZ9PXq",
        "outputId": "d991b6b6-e488-4a57-a216-3a0c3824a629"
      },
      "source": [
        "img = cv.imread(r'C:\\Users\\John LauFoo\\Box\\(MacLean) Motor Skill Acquisition\\DATA\\mouse81\\20211110-104732_mouse81_cam1_event_011_frame_0008580 - Copy.jpg')\n",
        "print(img.shape)"
      ],
      "execution_count": 29,
      "outputs": [
        {
          "output_type": "error",
          "ename": "AttributeError",
          "evalue": "ignored",
          "traceback": [
            "\u001b[0;31m---------------------------------------------------------------------------\u001b[0m",
            "\u001b[0;31mAttributeError\u001b[0m                            Traceback (most recent call last)",
            "\u001b[0;32m<ipython-input-29-ea7bafe04d50>\u001b[0m in \u001b[0;36m<module>\u001b[0;34m()\u001b[0m\n\u001b[1;32m      1\u001b[0m \u001b[0mimg\u001b[0m \u001b[0;34m=\u001b[0m \u001b[0mcv\u001b[0m\u001b[0;34m.\u001b[0m\u001b[0mimread\u001b[0m\u001b[0;34m(\u001b[0m\u001b[0;34mr'C:\\Users\\John LauFoo\\Box\\(MacLean) Motor Skill Acquisition\\DATA\\mouse81\\20211110-104732_mouse81_cam1_event_011_frame_0008580 - Copy.jpg'\u001b[0m\u001b[0;34m)\u001b[0m\u001b[0;34m\u001b[0m\u001b[0;34m\u001b[0m\u001b[0m\n\u001b[0;32m----> 2\u001b[0;31m \u001b[0mprint\u001b[0m\u001b[0;34m(\u001b[0m\u001b[0mimg\u001b[0m\u001b[0;34m.\u001b[0m\u001b[0mshape\u001b[0m\u001b[0;34m)\u001b[0m\u001b[0;34m\u001b[0m\u001b[0;34m\u001b[0m\u001b[0m\n\u001b[0m",
            "\u001b[0;31mAttributeError\u001b[0m: 'NoneType' object has no attribute 'shape'"
          ]
        }
      ]
    },
    {
      "cell_type": "code",
      "metadata": {
        "colab": {
          "base_uri": "https://localhost:8080/"
        },
        "id": "EShsSvjCpfvF",
        "outputId": "38556c7c-ca58-4595-e877-0ea573ba9ca4"
      },
      "source": [
        "!pip install deeplabcut==2.2b7\n",
        "%tensorflow_version 1.x\n",
        "os.environ[\"DLClight\"]=\"True\"\n",
        "\n",
        "import \n",
        "import deeplabcut"
      ],
      "execution_count": 3,
      "outputs": [
        {
          "output_type": "stream",
          "name": "stdout",
          "text": [
            "Requirement already satisfied: deeplabcut==2.2b7 in /usr/local/lib/python3.7/dist-packages (2.2b7)\n",
            "Requirement already satisfied: scikit-learn in /usr/local/lib/python3.7/dist-packages (from deeplabcut==2.2b7) (1.0.1)\n",
            "Requirement already satisfied: ipython-genutils in /usr/local/lib/python3.7/dist-packages (from deeplabcut==2.2b7) (0.2.0)\n",
            "Requirement already satisfied: wheel in /usr/local/lib/python3.7/dist-packages (from deeplabcut==2.2b7) (0.37.0)\n",
            "Requirement already satisfied: python-dateutil in /usr/local/lib/python3.7/dist-packages (from deeplabcut==2.2b7) (2.8.2)\n",
            "Requirement already satisfied: six in /usr/local/lib/python3.7/dist-packages (from deeplabcut==2.2b7) (1.15.0)\n",
            "Requirement already satisfied: certifi in /usr/local/lib/python3.7/dist-packages (from deeplabcut==2.2b7) (2021.10.8)\n",
            "Requirement already satisfied: bayesian-optimization in /usr/local/lib/python3.7/dist-packages (from deeplabcut==2.2b7) (1.2.0)\n",
            "Requirement already satisfied: numpy==1.16.4 in /usr/local/lib/python3.7/dist-packages (from deeplabcut==2.2b7) (1.16.4)\n",
            "Requirement already satisfied: chardet in /usr/local/lib/python3.7/dist-packages (from deeplabcut==2.2b7) (3.0.4)\n",
            "Requirement already satisfied: h5py in /usr/local/lib/python3.7/dist-packages (from deeplabcut==2.2b7) (3.1.0)\n",
            "Requirement already satisfied: requests in /usr/local/lib/python3.7/dist-packages (from deeplabcut==2.2b7) (2.23.0)\n",
            "Requirement already satisfied: matplotlib in /usr/local/lib/python3.7/dist-packages (from deeplabcut==2.2b7) (3.2.2)\n",
            "Requirement already satisfied: patsy in /usr/local/lib/python3.7/dist-packages (from deeplabcut==2.2b7) (0.5.2)\n",
            "Requirement already satisfied: tqdm in /usr/local/lib/python3.7/dist-packages (from deeplabcut==2.2b7) (4.62.3)\n",
            "Requirement already satisfied: ipython in /usr/local/lib/python3.7/dist-packages (from deeplabcut==2.2b7) (5.5.0)\n",
            "Requirement already satisfied: easydict in /usr/local/lib/python3.7/dist-packages (from deeplabcut==2.2b7) (1.9)\n",
            "Requirement already satisfied: tensorpack in /usr/local/lib/python3.7/dist-packages (from deeplabcut==2.2b7) (0.11)\n",
            "Requirement already satisfied: pandas>=1.0.1 in /usr/local/lib/python3.7/dist-packages (from deeplabcut==2.2b7) (1.1.5)\n",
            "Requirement already satisfied: statsmodels>=0.11 in /usr/local/lib/python3.7/dist-packages (from deeplabcut==2.2b7) (0.12.2)\n",
            "Requirement already satisfied: scipy>=1.4 in /usr/local/lib/python3.7/dist-packages (from deeplabcut==2.2b7) (1.4.1)\n",
            "Requirement already satisfied: pyyaml in /usr/local/lib/python3.7/dist-packages (from deeplabcut==2.2b7) (3.13)\n",
            "Requirement already satisfied: scikit-image in /usr/local/lib/python3.7/dist-packages (from deeplabcut==2.2b7) (0.17.2)\n",
            "Requirement already satisfied: opencv-python in /usr/local/lib/python3.7/dist-packages (from deeplabcut==2.2b7) (4.1.2.30)\n",
            "Requirement already satisfied: ruamel.yaml>=0.15.0 in /usr/local/lib/python3.7/dist-packages (from deeplabcut==2.2b7) (0.17.17)\n",
            "Requirement already satisfied: numba in /usr/local/lib/python3.7/dist-packages (from deeplabcut==2.2b7) (0.51.2)\n",
            "Requirement already satisfied: imgaug in /usr/local/lib/python3.7/dist-packages (from deeplabcut==2.2b7) (0.2.9)\n",
            "Requirement already satisfied: tables in /usr/local/lib/python3.7/dist-packages (from deeplabcut==2.2b7) (3.4.4)\n",
            "Requirement already satisfied: cython in /usr/local/lib/python3.7/dist-packages (from deeplabcut==2.2b7) (0.29.24)\n",
            "Requirement already satisfied: setuptools in /usr/local/lib/python3.7/dist-packages (from deeplabcut==2.2b7) (57.4.0)\n",
            "Requirement already satisfied: intel-openmp in /usr/local/lib/python3.7/dist-packages (from deeplabcut==2.2b7) (2021.4.0)\n",
            "Requirement already satisfied: filterpy in /usr/local/lib/python3.7/dist-packages (from deeplabcut==2.2b7) (1.4.5)\n",
            "Requirement already satisfied: click in /usr/local/lib/python3.7/dist-packages (from deeplabcut==2.2b7) (7.1.2)\n",
            "Requirement already satisfied: moviepy<=1.0.1 in /usr/local/lib/python3.7/dist-packages (from deeplabcut==2.2b7) (0.2.3.5)\n",
            "Requirement already satisfied: decorator<5.0,>=4.0.2 in /usr/local/lib/python3.7/dist-packages (from moviepy<=1.0.1->deeplabcut==2.2b7) (4.4.2)\n",
            "Requirement already satisfied: imageio<3.0,>=2.1.2 in /usr/local/lib/python3.7/dist-packages (from moviepy<=1.0.1->deeplabcut==2.2b7) (2.4.1)\n",
            "Requirement already satisfied: pillow in /usr/local/lib/python3.7/dist-packages (from imageio<3.0,>=2.1.2->moviepy<=1.0.1->deeplabcut==2.2b7) (7.1.2)\n",
            "Requirement already satisfied: pytz>=2017.2 in /usr/local/lib/python3.7/dist-packages (from pandas>=1.0.1->deeplabcut==2.2b7) (2018.9)\n",
            "Requirement already satisfied: ruamel.yaml.clib>=0.1.2 in /usr/local/lib/python3.7/dist-packages (from ruamel.yaml>=0.15.0->deeplabcut==2.2b7) (0.2.6)\n",
            "Requirement already satisfied: joblib>=0.11 in /usr/local/lib/python3.7/dist-packages (from scikit-learn->deeplabcut==2.2b7) (1.1.0)\n",
            "Requirement already satisfied: threadpoolctl>=2.0.0 in /usr/local/lib/python3.7/dist-packages (from scikit-learn->deeplabcut==2.2b7) (3.0.0)\n",
            "Requirement already satisfied: cached-property in /usr/local/lib/python3.7/dist-packages (from h5py->deeplabcut==2.2b7) (1.5.2)\n",
            "Requirement already satisfied: Shapely in /usr/local/lib/python3.7/dist-packages (from imgaug->deeplabcut==2.2b7) (1.8.0)\n",
            "Requirement already satisfied: PyWavelets>=1.1.1 in /usr/local/lib/python3.7/dist-packages (from scikit-image->deeplabcut==2.2b7) (1.1.1)\n",
            "Requirement already satisfied: tifffile>=2019.7.26 in /usr/local/lib/python3.7/dist-packages (from scikit-image->deeplabcut==2.2b7) (2021.11.2)\n",
            "Requirement already satisfied: networkx>=2.0 in /usr/local/lib/python3.7/dist-packages (from scikit-image->deeplabcut==2.2b7) (2.6.3)\n",
            "Requirement already satisfied: kiwisolver>=1.0.1 in /usr/local/lib/python3.7/dist-packages (from matplotlib->deeplabcut==2.2b7) (1.3.2)\n",
            "Requirement already satisfied: pyparsing!=2.0.4,!=2.1.2,!=2.1.6,>=2.0.1 in /usr/local/lib/python3.7/dist-packages (from matplotlib->deeplabcut==2.2b7) (2.4.7)\n",
            "Requirement already satisfied: cycler>=0.10 in /usr/local/lib/python3.7/dist-packages (from matplotlib->deeplabcut==2.2b7) (0.11.0)\n",
            "Requirement already satisfied: prompt-toolkit<2.0.0,>=1.0.4 in /usr/local/lib/python3.7/dist-packages (from ipython->deeplabcut==2.2b7) (1.0.18)\n",
            "Requirement already satisfied: pygments in /usr/local/lib/python3.7/dist-packages (from ipython->deeplabcut==2.2b7) (2.6.1)\n",
            "Requirement already satisfied: pickleshare in /usr/local/lib/python3.7/dist-packages (from ipython->deeplabcut==2.2b7) (0.7.5)\n",
            "Requirement already satisfied: pexpect in /usr/local/lib/python3.7/dist-packages (from ipython->deeplabcut==2.2b7) (4.8.0)\n",
            "Requirement already satisfied: simplegeneric>0.8 in /usr/local/lib/python3.7/dist-packages (from ipython->deeplabcut==2.2b7) (0.8.1)\n",
            "Requirement already satisfied: traitlets>=4.2 in /usr/local/lib/python3.7/dist-packages (from ipython->deeplabcut==2.2b7) (5.1.1)\n",
            "Requirement already satisfied: wcwidth in /usr/local/lib/python3.7/dist-packages (from prompt-toolkit<2.0.0,>=1.0.4->ipython->deeplabcut==2.2b7) (0.2.5)\n",
            "Requirement already satisfied: llvmlite<0.35,>=0.34.0.dev0 in /usr/local/lib/python3.7/dist-packages (from numba->deeplabcut==2.2b7) (0.34.0)\n",
            "Requirement already satisfied: ptyprocess>=0.5 in /usr/local/lib/python3.7/dist-packages (from pexpect->ipython->deeplabcut==2.2b7) (0.7.0)\n",
            "Requirement already satisfied: urllib3!=1.25.0,!=1.25.1,<1.26,>=1.21.1 in /usr/local/lib/python3.7/dist-packages (from requests->deeplabcut==2.2b7) (1.24.3)\n",
            "Requirement already satisfied: idna<3,>=2.5 in /usr/local/lib/python3.7/dist-packages (from requests->deeplabcut==2.2b7) (2.10)\n",
            "Requirement already satisfied: numexpr>=2.5.2 in /usr/local/lib/python3.7/dist-packages (from tables->deeplabcut==2.2b7) (2.7.3)\n",
            "Requirement already satisfied: psutil>=5 in /usr/local/lib/python3.7/dist-packages (from tensorpack->deeplabcut==2.2b7) (5.4.8)\n",
            "Requirement already satisfied: tabulate>=0.7.7 in /usr/local/lib/python3.7/dist-packages (from tensorpack->deeplabcut==2.2b7) (0.8.9)\n",
            "Requirement already satisfied: pyzmq>=16 in /usr/local/lib/python3.7/dist-packages (from tensorpack->deeplabcut==2.2b7) (22.3.0)\n",
            "Requirement already satisfied: msgpack-numpy>=0.4.4.2 in /usr/local/lib/python3.7/dist-packages (from tensorpack->deeplabcut==2.2b7) (0.4.7.1)\n",
            "Requirement already satisfied: termcolor>=1.1 in /usr/local/lib/python3.7/dist-packages (from tensorpack->deeplabcut==2.2b7) (1.1.0)\n",
            "Requirement already satisfied: msgpack>=0.5.2 in /usr/local/lib/python3.7/dist-packages (from tensorpack->deeplabcut==2.2b7) (1.0.2)\n",
            "TensorFlow 1.x selected.\n",
            "DLC loaded in light mode; you cannot use any GUI (labeling, relabeling and standalone GUI)\n"
          ]
        }
      ]
    },
    {
      "cell_type": "markdown",
      "metadata": {
        "id": "zFKvdWZpqYSl"
      },
      "source": [
        "### Create Project and Get config_path"
      ]
    },
    {
      "cell_type": "code",
      "metadata": {
        "colab": {
          "base_uri": "https://localhost:8080/"
        },
        "id": "RMSP9Ef0qhhM",
        "outputId": "a78b4ce2-af64-4818-8e67-e830db287a99"
      },
      "source": [
        "working_dir = 'C:/Users/John LauFoo/Box/(MacLean) Motor Skill Acquisition/METHODS'\n",
        "\n",
        "config_path = deeplabcut.create_new_project('Jhan_test3','Jhan',full_path_list,working_dir,True)\n",
        "print(config_path)\n",
        "# Forward slash (/) and double back slash (\\\\) don't work"
      ],
      "execution_count": 16,
      "outputs": [
        {
          "output_type": "stream",
          "name": "stdout",
          "text": [
            "Created \"/content/C:/Users/John LauFoo/Box/(MacLean) Motor Skill Acquisition/METHODS/Jhan_test3-Jhan-2021-11-18/videos\"\n",
            "Created \"/content/C:/Users/John LauFoo/Box/(MacLean) Motor Skill Acquisition/METHODS/Jhan_test3-Jhan-2021-11-18/labeled-data\"\n",
            "Created \"/content/C:/Users/John LauFoo/Box/(MacLean) Motor Skill Acquisition/METHODS/Jhan_test3-Jhan-2021-11-18/training-datasets\"\n",
            "Created \"/content/C:/Users/John LauFoo/Box/(MacLean) Motor Skill Acquisition/METHODS/Jhan_test3-Jhan-2021-11-18/dlc-models\"\n",
            "Copying the videos\n",
            "WARNING: No valid videos were found. The project was not created ...\n",
            "Verify the video files and re-create the project.\n",
            "nothingcreated\n"
          ]
        }
      ]
    }
  ]
}